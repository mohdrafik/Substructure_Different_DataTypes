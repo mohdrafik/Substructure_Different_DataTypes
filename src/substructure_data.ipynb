{
 "cells": [
  {
   "cell_type": "code",
   "execution_count": null,
   "id": "9a5ed08b",
   "metadata": {},
   "outputs": [],
   "source": []
  },
  {
   "cell_type": "markdown",
   "id": "d4a01e98",
   "metadata": {},
   "source": [
    "###  convert the .mat data into the .npy data using the main key value from the main (.mat)  data files."
   ]
  },
  {
   "cell_type": "code",
   "execution_count": null,
   "id": "d558f669",
   "metadata": {},
   "outputs": [],
   "source": [
    "import scipy.io\n",
    "import numpy as np\n",
    "import os\n",
    "from basicstatics import basicstat\n",
    "\n",
    "files = os.listdir(r'C:\\Users\\mrafik\\OneDrive - C.N.R. STIIMA\\tomogram all data\\all_tomogram_data')\n",
    "print(f\" list of all files: {files}\")\n",
    "\n",
    "for matfile in files:\n",
    "    if matfile[-4:]=='.mat':\n",
    "        print(matfile)\n",
    "        # Load .mat file\n",
    "        mat = scipy.io.loadmat(matfile)\n",
    "        # Extract the 3D matrix\n",
    "        tomogram_name = matfile[0:-4]\n",
    "        # print(tomogram_name)\n",
    "        \n",
    "        for key in mat.keys():\n",
    "            # print(key)\n",
    "            if key in ['Tom_RI','Tom3']:\n",
    "                tomogram_data = mat[key]  # Extract the refractive index data\n",
    "            # Save as a .npy file\n",
    "                numpyarrfile = f\"{tomogram_name}.npy\"\n",
    "                np.save(numpyarrfile, tomogram_data)\n",
    "                data = np.load(numpyarrfile)\n",
    "                basicstat(data)\n",
    "                \n"
   ]
  },
  {
   "cell_type": "code",
   "execution_count": null,
   "id": "2deb4989",
   "metadata": {},
   "outputs": [],
   "source": [
    "#  Python Script for Loading & Normalization\n",
    "    \n",
    "# Import necessary libraries\n",
    "import numpy as np\n",
    "import os\n",
    "import glob\n",
    "import matplotlib.pyplot as plt\n",
    "import seaborn as sns\n",
    "from sklearn.preprocessing import MinMaxScaler\n",
    "\n",
    "# Define a function to load and normalize 3D Numpy data\n",
    "def load_and_normalize_npy(file_path):\n",
    "    \"\"\"\n",
    "    Loads a .npy file and applies Min-Max normalization.\n",
    "    \"\"\"\n",
    "    data = np.load(file_path)  # Load the file\n",
    "    min_val, max_val = np.min(data), np.max(data)  # Get min-max values\n",
    "    normalized_data = (data - min_val) / (max_val - min_val)  # Normalize to [0,1]\n",
    "    return normalized_data, min_val, max_val\n",
    "\n",
    "# Set the directory containing .npy files (update this with your folder path)\n",
    "data_folder = \"your_directory_path_here\"\n",
    "npy_files = glob.glob(os.path.join(data_folder, \"*.npy\"))  # List all .npy files\n",
    "\n",
    "# Dictionary to store the normalized datasets\n",
    "normalized_data = {}\n",
    "data_ranges = {}\n",
    "\n",
    "# Load and normalize each dataset\n",
    "for file in npy_files:\n",
    "    file_name = os.path.basename(file)\n",
    "    data, min_val, max_val = load_and_normalize_npy(file)\n",
    "    normalized_data[file_name] = data  # Store in dictionary\n",
    "    data_ranges[file_name] = (min_val, max_val)  # Store original data range\n",
    "    print(f\"Loaded and normalized {file_name} - Min: {min_val}, Max: {max_val}\")\n",
    "\n",
    "# Plot histogram of one dataset (Example: First File)\n",
    "sample_file = list(normalized_data.keys())[0]\n",
    "sample_data = normalized_data[sample_file].flatten()\n",
    "plt.figure(figsize=(6, 4))\n",
    "sns.histplot(sample_data, bins=50, kde=True)\n",
    "plt.title(f\"Distribution of Normalized Data: {sample_file}\")\n",
    "plt.xlabel(\"Normalized Value\")\n",
    "plt.ylabel(\"Frequency\")\n",
    "plt.show()\n"
   ]
  }
 ],
 "metadata": {
  "kernelspec": {
   "display_name": "Python 3 (ipykernel)",
   "language": "python",
   "name": "python3"
  },
  "language_info": {
   "codemirror_mode": {
    "name": "ipython",
    "version": 3
   },
   "file_extension": ".py",
   "mimetype": "text/x-python",
   "name": "python",
   "nbconvert_exporter": "python",
   "pygments_lexer": "ipython3",
   "version": "3.10.7"
  }
 },
 "nbformat": 4,
 "nbformat_minor": 5
}
